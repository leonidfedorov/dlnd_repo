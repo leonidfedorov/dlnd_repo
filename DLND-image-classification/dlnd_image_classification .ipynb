{
 "cells": [
  {
   "cell_type": "markdown",
   "metadata": {
    "collapsed": true,
    "deletable": true,
    "editable": true
   },
   "source": [
    "# Image Classification\n",
    "In this project, you'll classify images from the [CIFAR-10 dataset](https://www.cs.toronto.edu/~kriz/cifar.html).  The dataset consists of airplanes, dogs, cats, and other objects. You'll preprocess the images, then train a convolutional neural network on all the samples. The images need to be normalized and the labels need to be one-hot encoded.  You'll get to apply what you learned and build a convolutional, max pooling, dropout, and fully connected layers.  At the end, you'll get to see your neural network's predictions on the sample images.\n",
    "## Get the Data\n",
    "Run the following cell to download the [CIFAR-10 dataset for python](https://www.cs.toronto.edu/~kriz/cifar-10-python.tar.gz)."
   ]
  },
  {
   "cell_type": "code",
   "execution_count": 14,
   "metadata": {
    "collapsed": false,
    "deletable": true,
    "editable": true
   },
   "outputs": [
    {
     "name": "stdout",
     "output_type": "stream",
     "text": [
      "All files found!\n"
     ]
    }
   ],
   "source": [
    "\"\"\"\n",
    "DON'T MODIFY ANYTHING IN THIS CELL THAT IS BELOW THIS LINE\n",
    "\"\"\"\n",
    "from urllib.request import urlretrieve\n",
    "from os.path import isfile, isdir\n",
    "from tqdm import tqdm\n",
    "import problem_unittests as tests\n",
    "import tarfile\n",
    "\n",
    "cifar10_dataset_folder_path = 'cifar-10-batches-py'\n",
    "\n",
    "# Use Floyd's cifar-10 dataset if present\n",
    "floyd_cifar10_location = '/input/cifar-10/python.tar.gz'\n",
    "if isfile(floyd_cifar10_location):\n",
    "    tar_gz_path = floyd_cifar10_location\n",
    "else:\n",
    "    tar_gz_path = 'cifar-10-python.tar.gz'\n",
    "\n",
    "class DLProgress(tqdm):\n",
    "    last_block = 0\n",
    "\n",
    "    def hook(self, block_num=1, block_size=1, total_size=None):\n",
    "        self.total = total_size\n",
    "        self.update((block_num - self.last_block) * block_size)\n",
    "        self.last_block = block_num\n",
    "\n",
    "if not isfile(tar_gz_path):\n",
    "    with DLProgress(unit='B', unit_scale=True, miniters=1, desc='CIFAR-10 Dataset') as pbar:\n",
    "        urlretrieve(\n",
    "            'https://www.cs.toronto.edu/~kriz/cifar-10-python.tar.gz',\n",
    "            tar_gz_path,\n",
    "            pbar.hook)\n",
    "\n",
    "if not isdir(cifar10_dataset_folder_path):\n",
    "    with tarfile.open(tar_gz_path) as tar:\n",
    "        tar.extractall()\n",
    "        tar.close()\n",
    "\n",
    "\n",
    "tests.test_folder_path(cifar10_dataset_folder_path)"
   ]
  },
  {
   "cell_type": "markdown",
   "metadata": {
    "deletable": true,
    "editable": true
   },
   "source": [
    "## Explore the Data\n",
    "The dataset is broken into batches to prevent your machine from running out of memory.  The CIFAR-10 dataset consists of 5 batches, named `data_batch_1`, `data_batch_2`, etc.. Each batch contains the labels and images that are one of the following:\n",
    "* airplane\n",
    "* automobile\n",
    "* bird\n",
    "* cat\n",
    "* deer\n",
    "* dog\n",
    "* frog\n",
    "* horse\n",
    "* ship\n",
    "* truck\n",
    "\n",
    "Understanding a dataset is part of making predictions on the data.  Play around with the code cell below by changing the `batch_id` and `sample_id`. The `batch_id` is the id for a batch (1-5). The `sample_id` is the id for a image and label pair in the batch.\n",
    "\n",
    "Ask yourself \"What are all possible labels?\", \"What is the range of values for the image data?\", \"Are the labels in order or random?\".  Answers to questions like these will help you preprocess the data and end up with better predictions."
   ]
  },
  {
   "cell_type": "code",
   "execution_count": 15,
   "metadata": {
    "collapsed": false,
    "deletable": true,
    "editable": true
   },
   "outputs": [
    {
     "name": "stdout",
     "output_type": "stream",
     "text": [
      "\n",
      "Stats of batch 1:\n",
      "Samples: 10000\n",
      "Label Counts: {0: 1005, 1: 974, 2: 1032, 3: 1016, 4: 999, 5: 937, 6: 1030, 7: 1001, 8: 1025, 9: 981}\n",
      "First 20 Labels: [6, 9, 9, 4, 1, 1, 2, 7, 8, 3, 4, 7, 7, 2, 9, 9, 9, 3, 2, 6]\n",
      "\n",
      "Example of Image 5:\n",
      "Image - Min Value: 0 Max Value: 252\n",
      "Image - Shape: (32, 32, 3)\n",
      "Label - Label Id: 1 Name: automobile\n"
     ]
    },
    {
     "data": {
      "image/png": "[encoded data removed]",
      "text/plain": [
       "<matplotlib.figure.Figure at 0x7f243547cac8>"
      ]
     },
     "metadata": {
      "image/png": {
       "height": 250,
       "width": 253
      }
     },
     "output_type": "display_data"
    }
   ],
   "source": [
    "%matplotlib inline\n",
    "%config InlineBackend.figure_format = 'retina'\n",
    "\n",
    "import helper\n",
    "import numpy as np\n",
    "\n",
    "# Explore the dataset\n",
    "batch_id = 1\n",
    "sample_id = 5\n",
    "helper.display_stats(cifar10_dataset_folder_path, batch_id, sample_id)"
   ]
  },
  {
   "cell_type": "markdown",
   "metadata": {
    "deletable": true,
    "editable": true
   },
   "source": [
    "## Implement Preprocess Functions\n",
    "### Normalize\n",
    "In the cell below, implement the `normalize` function to take in image data, `x`, and return it as a normalized Numpy array. The values should be in the range of 0 to 1, inclusive.  The return object should be the same shape as `x`."
   ]
  },
  {
   "cell_type": "code",
   "execution_count": 16,
   "metadata": {
    "collapsed": false,
    "deletable": true,
    "editable": true
   },
   "outputs": [
    {
     "name": "stdout",
     "output_type": "stream",
     "text": [
      "Tests Passed\n"
     ]
    }
   ],
   "source": [
    "def normalize(x):\n",
    "    \"\"\"\n",
    "    Normalize a list of sample image data in the range of 0 to 1\n",
    "    : x: List of image data.  The image shape is (32, 32, 3)\n",
    "    : return: Numpy array of normalize data\n",
    "    \"\"\"\n",
    "    # TODO: Implement Function\n",
    "    min_bound = np.min(x)\n",
    "    max_bound = np.max(x)\n",
    "    return (x - min_bound)/(max_bound - min_bound)\n",
    "\n",
    "\n",
    "\"\"\"\n",
    "DON'T MODIFY ANYTHING IN THIS CELL THAT IS BELOW THIS LINE\n",
    "\"\"\"\n",
    "tests.test_normalize(normalize)"
   ]
  },
  {
   "cell_type": "markdown",
   "metadata": {
    "deletable": true,
    "editable": true
   },
   "source": [
    "### One-hot encode\n",
    "Just like the previous code cell, you'll be implementing a function for preprocessing.  This time, you'll implement the `one_hot_encode` function. The input, `x`, are a list of labels.  Implement the function to return the list of labels as One-Hot encoded Numpy array.  The possible values for labels are 0 to 9. The one-hot encoding function should return the same encoding for each value between each call to `one_hot_encode`.  Make sure to save the map of encodings outside the function.\n",
    "\n",
    "Hint: Don't reinvent the wheel."
   ]
  },
  {
   "cell_type": "code",
   "execution_count": 17,
   "metadata": {
    "collapsed": false,
    "deletable": true,
    "editable": true
   },
   "outputs": [
    {
     "name": "stdout",
     "output_type": "stream",
     "text": [
      "Tests Passed\n"
     ]
    }
   ],
   "source": [
    "def one_hot_encode(x):\n",
    "    \"\"\"\n",
    "    One hot encode a list of sample labels. Return a one-hot encoded vector for each label.\n",
    "    : x: List of sample Labels\n",
    "    : return: Numpy array of one-hot encoded labels\n",
    "    \"\"\"\n",
    "    # TODO: Implement Function\n",
    "    \n",
    "    return np.eye(10)[x]\n",
    "\n",
    "\n",
    "\"\"\"\n",
    "DON'T MODIFY ANYTHING IN THIS CELL THAT IS BELOW THIS LINE\n",
    "\"\"\"\n",
    "tests.test_one_hot_encode(one_hot_encode)"
   ]
  },
  {
   "cell_type": "markdown",
   "metadata": {
    "deletable": true,
    "editable": true
   },
   "source": [
    "### Randomize Data\n",
    "As you saw from exploring the data above, the order of the samples are randomized.  It doesn't hurt to randomize it again, but you don't need to for this dataset."
   ]
  },
  {
   "cell_type": "markdown",
   "metadata": {
    "deletable": true,
    "editable": true
   },
   "source": [
    "## Preprocess all the data and save it\n",
    "Running the code cell below will preprocess all the CIFAR-10 data and save it to file. The code below also uses 10% of the training data for validation."
   ]
  },
  {
   "cell_type": "code",
   "execution_count": 18,
   "metadata": {
    "collapsed": false,
    "deletable": true,
    "editable": true
   },
   "outputs": [],
   "source": [
    "\"\"\"\n",
    "DON'T MODIFY ANYTHING IN THIS CELL\n",
    "\"\"\"\n",
    "# Preprocess Training, Validation, and Testing Data\n",
    "helper.preprocess_and_save_data(cifar10_dataset_folder_path, normalize, one_hot_encode)"
   ]
  },
  {
   "cell_type": "markdown",
   "metadata": {
    "deletable": true,
    "editable": true
   },
   "source": [
    "# Check Point\n",
    "This is your first checkpoint.  If you ever decide to come back to this notebook or have to restart the notebook, you can start from here.  The preprocessed data has been saved to disk."
   ]
  },
  {
   "cell_type": "code",
   "execution_count": 19,
   "metadata": {
    "collapsed": true,
    "deletable": true,
    "editable": true
   },
   "outputs": [],
   "source": [
    "\"\"\"\n",
    "DON'T MODIFY ANYTHING IN THIS CELL\n",
    "\"\"\"\n",
    "import pickle\n",
    "import problem_unittests as tests\n",
    "import helper\n",
    "\n",
    "# Load the Preprocessed Validation data\n",
    "valid_features, valid_labels = pickle.load(open('preprocess_validation.p', mode='rb'))"
   ]
  },
  {
   "cell_type": "markdown",
   "metadata": {
    "deletable": true,
    "editable": true
   },
   "source": [
    "## Build the network\n",
    "For the neural network, you'll build each layer into a function.  Most of the code you've seen has been outside of functions. To test your code more thoroughly, we require that you put each layer in a function.  This allows us to give you better feedback and test for simple mistakes using our unittests before you submit your project.\n",
    "\n",
    ">**Note:** If you're finding it hard to dedicate enough time for this course each week, we've provided a small shortcut to this part of the project. In the next couple of problems, you'll have the option to use classes from the [TensorFlow Layers](https://www.tensorflow.org/api_docs/python/tf/layers) or [TensorFlow Layers (contrib)](https://www.tensorflow.org/api_guides/python/contrib.layers) packages to build each layer, except the layers you build in the \"Convolutional and Max Pooling Layer\" section.  TF Layers is similar to Keras's and TFLearn's abstraction to layers, so it's easy to pickup.\n",
    "\n",
    ">However, if you would like to get the most out of this course, try to solve all the problems _without_ using anything from the TF Layers packages. You **can** still use classes from other packages that happen to have the same name as ones you find in TF Layers! For example, instead of using the TF Layers version of the `conv2d` class, [tf.layers.conv2d](https://www.tensorflow.org/api_docs/python/tf/layers/conv2d), you would want to use the TF Neural Network version of `conv2d`, [tf.nn.conv2d](https://www.tensorflow.org/api_docs/python/tf/nn/conv2d). \n",
    "\n",
    "Let's begin!\n",
    "\n",
    "### Input\n",
    "The neural network needs to read the image data, one-hot encoded labels, and dropout keep probability. Implement the following functions\n",
    "* Implement `neural_net_image_input`\n",
    " * Return a [TF Placeholder](https://www.tensorflow.org/api_docs/python/tf/placeholder)\n",
    " * Set the shape using `image_shape` with batch size set to `None`.\n",
    " * Name the TensorFlow placeholder \"x\" using the TensorFlow `name` parameter in the [TF Placeholder](https://www.tensorflow.org/api_docs/python/tf/placeholder).\n",
    "* Implement `neural_net_label_input`\n",
    " * Return a [TF Placeholder](https://www.tensorflow.org/api_docs/python/tf/placeholder)\n",
    " * Set the shape using `n_classes` with batch size set to `None`.\n",
    " * Name the TensorFlow placeholder \"y\" using the TensorFlow `name` parameter in the [TF Placeholder](https://www.tensorflow.org/api_docs/python/tf/placeholder).\n",
    "* Implement `neural_net_keep_prob_input`\n",
    " * Return a [TF Placeholder](https://www.tensorflow.org/api_docs/python/tf/placeholder) for dropout keep probability.\n",
    " * Name the TensorFlow placeholder \"keep_prob\" using the TensorFlow `name` parameter in the [TF Placeholder](https://www.tensorflow.org/api_docs/python/tf/placeholder).\n",
    "\n",
    "These names will be used at the end of the project to load your saved model.\n",
    "\n",
    "Note: `None` for shapes in TensorFlow allow for a dynamic size."
   ]
  },
  {
   "cell_type": "code",
   "execution_count": 20,
   "metadata": {
    "collapsed": false,
    "deletable": true,
    "editable": true
   },
   "outputs": [
    {
     "name": "stdout",
     "output_type": "stream",
     "text": [
      "Image Input Tests Passed.\n",
      "Label Input Tests Passed.\n",
      "Keep Prob Tests Passed.\n"
     ]
    }
   ],
   "source": [
    "import tensorflow as tf\n",
    "\n",
    "def neural_net_image_input(image_shape):\n",
    "    \"\"\"\n",
    "    Return a Tensor for a bach of image input\n",
    "    : image_shape: Shape of the images\n",
    "    : return: Tensor for image input.\n",
    "    \"\"\"\n",
    "    # TODO: Implement Function\n",
    "    return tf.placeholder(tf.float32, [None, *image_shape], name='x')\n",
    "\n",
    "\n",
    "def neural_net_label_input(n_classes):\n",
    "    \"\"\"\n",
    "    Return a Tensor for a batch of label input\n",
    "    : n_classes: Number of classes\n",
    "    : return: Tensor for label input.\n",
    "    \"\"\"\n",
    "    # TODO: Implement Function\n",
    "    return tf.placeholder(tf.float32, [None, n_classes], name='y')\n",
    "\n",
    "\n",
    "def neural_net_keep_prob_input():\n",
    "    \"\"\"\n",
    "    Return a Tensor for keep probability\n",
    "    : return: Tensor for keep probability.\n",
    "    \"\"\"\n",
    "    # TODO: Implement Function\n",
    "    return tf.placeholder(tf.float32, name='keep_prob')\n",
    "\n",
    "\n",
    "\"\"\"\n",
    "DON'T MODIFY ANYTHING IN THIS CELL THAT IS BELOW THIS LINE\n",
    "\"\"\"\n",
    "tf.reset_default_graph()\n",
    "tests.test_nn_image_inputs(neural_net_image_input)\n",
    "tests.test_nn_label_inputs(neural_net_label_input)\n",
    "tests.test_nn_keep_prob_inputs(neural_net_keep_prob_input)"
   ]
  },
  {
   "cell_type": "markdown",
   "metadata": {
    "deletable": true,
    "editable": true
   },
   "source": [
    "### Convolution and Max Pooling Layer\n",
    "Convolution layers have a lot of success with images. For this code cell, you should implement the function `conv2d_maxpool` to apply convolution then max pooling:\n",
    "* Create the weight and bias using `conv_ksize`, `conv_num_outputs` and the shape of `x_tensor`.\n",
    "* Apply a convolution to `x_tensor` using weight and `conv_strides`.\n",
    " * We recommend you use same padding, but you're welcome to use any padding.\n",
    "* Add bias\n",
    "* Add a nonlinear activation to the convolution.\n",
    "* Apply Max Pooling using `pool_ksize` and `pool_strides`.\n",
    " * We recommend you use same padding, but you're welcome to use any padding.\n",
    "\n",
    "**Note:** You **can't** use [TensorFlow Layers](https://www.tensorflow.org/api_docs/python/tf/layers) or [TensorFlow Layers (contrib)](https://www.tensorflow.org/api_guides/python/contrib.layers) for **this** layer, but you can still use TensorFlow's [Neural Network](https://www.tensorflow.org/api_docs/python/tf/nn) package. You may still use the shortcut option for all the **other** layers."
   ]
  },
  {
   "cell_type": "code",
   "execution_count": 48,
   "metadata": {
    "collapsed": false,
    "deletable": true,
    "editable": true
   },
   "outputs": [
    {
     "name": "stdout",
     "output_type": "stream",
     "text": [
      "Tests Passed\n"
     ]
    }
   ],
   "source": [
    "def conv2d_maxpool(x_tensor, conv_num_outputs, conv_ksize, conv_strides, pool_ksize, pool_strides):\n",
    "    \"\"\"\n",
    "    Apply convolution then max pooling to x_tensor\n",
    "    :param x_tensor: TensorFlow Tensor\n",
    "    :param conv_num_outputs: Number of outputs for the convolutional layer\n",
    "    :param conv_ksize: kernal size 2-D Tuple for the convolutional layer\n",
    "    :param conv_strides: Stride 2-D Tuple for convolution\n",
    "    :param pool_ksize: kernal size 2-D Tuple for pool\n",
    "    :param pool_strides: Stride 2-D Tuple for pool\n",
    "    : return: A tensor that represents convolution and max pooling of x_tensor\n",
    "    \"\"\"\n",
    "    # TODO: Implement Function\n",
    "    #input_depth = int(x_tensor.get_shape()[3])\n",
    "    #depth_oux_tensor.get_shape()[3]t = \n",
    "    w_shape = [*conv_ksize, int(x_tensor.get_shape()[3]), conv_num_outputs]\n",
    "    \n",
    "    w = tf.Variable(tf.random_normal(w_shape, stddev=0.1))\n",
    "    b = tf.Variable(tf.zeros(conv_num_outputs))\n",
    "    \n",
    "    stride_shape_conv = [1, *conv_strides, 1]\n",
    "    \n",
    "    x = tf.nn.conv2d(x_tensor, w, strides=stride_shape_conv, padding='SAME')    \n",
    "    x = tf.nn.bias_add(x, b)\n",
    "    x = tf.nn.relu(x)\n",
    "    \n",
    "    ksize_shape_pool = [1, *pool_ksize, 1]\n",
    "    strides_shape_pool = [1, *pool_strides, 1]\n",
    "    \n",
    "    x = tf.nn.max_pool(x, ksize_shape_pool, strides_shape_pool, padding='SAME')\n",
    "    \n",
    "    return x\n",
    "\n",
    "\n",
    "\"\"\"\n",
    "DON'T MODIFY ANYTHING IN THIS CELL THAT IS BELOW THIS LINE\n",
    "\"\"\"\n",
    "tests.test_con_pool(conv2d_maxpool)"
   ]
  },
  {
   "cell_type": "markdown",
   "metadata": {
    "deletable": true,
    "editable": true
   },
   "source": [
    "### Flatten Layer\n",
    "Implement the `flatten` function to change the dimension of `x_tensor` from a 4-D tensor to a 2-D tensor.  The output should be the shape (*Batch Size*, *Flattened Image Size*). Shortcut option: you can use classes from the [TensorFlow Layers](https://www.tensorflow.org/api_docs/python/tf/layers) or [TensorFlow Layers (contrib)](https://www.tensorflow.org/api_guides/python/contrib.layers) packages for this layer. For more of a challenge, only use other TensorFlow packages."
   ]
  },
  {
   "cell_type": "code",
   "execution_count": 58,
   "metadata": {
    "collapsed": false,
    "deletable": true,
    "editable": true
   },
   "outputs": [
    {
     "name": "stdout",
     "output_type": "stream",
     "text": [
      "Tests Passed\n"
     ]
    }
   ],
   "source": [
    "def flatten(x_tensor):\n",
    "    \"\"\"\n",
    "    Flatten x_tensor to (Batch Size, Flattened Image Size)\n",
    "    : x_tensor: A tensor of size (Batch Size, ...), where ... are the image dimensions.\n",
    "    : return: A tensor of size (Batch Size, Flattened Image Size).\n",
    "    \"\"\"\n",
    "    # TODO: Implement Function\n",
    "    _, I, J, K = x_tensor.get_shape().as_list()\n",
    "    \n",
    "    x_flat = tf.reshape(x_tensor, [-1, I * J * K]) \n",
    "    return x_flat\n",
    "\n",
    "\n",
    "\"\"\"\n",
    "DON'T MODIFY ANYTHING IN THIS CELL THAT IS BELOW THIS LINE\n",
    "\"\"\"\n",
    "tests.test_flatten(flatten)"
   ]
  },
  {
   "cell_type": "markdown",
   "metadata": {
    "deletable": true,
    "editable": true
   },
   "source": [
    "### Fully-Connected Layer\n",
    "Implement the `fully_conn` function to apply a fully connected layer to `x_tensor` with the shape (*Batch Size*, *num_outputs*). Shortcut option: you can use classes from the [TensorFlow Layers](https://www.tensorflow.org/api_docs/python/tf/layers) or [TensorFlow Layers (contrib)](https://www.tensorflow.org/api_guides/python/contrib.layers) packages for this layer. For more of a challenge, only use other TensorFlow packages."
   ]
  },
  {
   "cell_type": "code",
   "execution_count": 61,
   "metadata": {
    "collapsed": false,
    "deletable": true,
    "editable": true
   },
   "outputs": [
    {
     "name": "stdout",
     "output_type": "stream",
     "text": [
      "Tests Passed\n"
     ]
    }
   ],
   "source": [
    "def fully_conn(x_tensor, num_outputs):\n",
    "    \"\"\"\n",
    "    Apply a fully connected layer to x_tensor using weight and bias\n",
    "    : x_tensor: A 2-D tensor where the first dimension is batch size.\n",
    "    : num_outputs: The number of output that the new tensor should be.\n",
    "    : return: A 2-D tensor where the second dimension is num_outputs.\n",
    "    \"\"\"\n",
    "    # TODO: Implement Function\n",
    "    w_shape = (int(x_tensor.get_shape().as_list()[1]), num_outputs)\n",
    "    \n",
    "    w = tf.Variable(tf.random_normal(w_shape, stddev=0.1))\n",
    "    b = tf.Variable(tf.zeros(num_outputs))\n",
    "    \n",
    "    x = tf.nn.relu(tf.add(tf.matmul(x_tensor, w), b))\n",
    "    \n",
    "    return x\n",
    "\n",
    "\n",
    "\"\"\"\n",
    "DON'T MODIFY ANYTHING IN THIS CELL THAT IS BELOW THIS LINE\n",
    "\"\"\"\n",
    "tests.test_fully_conn(fully_conn)"
   ]
  },
  {
   "cell_type": "markdown",
   "metadata": {
    "deletable": true,
    "editable": true
   },
   "source": [
    "### Output Layer\n",
    "Implement the `output` function to apply a fully connected layer to `x_tensor` with the shape (*Batch Size*, *num_outputs*). Shortcut option: you can use classes from the [TensorFlow Layers](https://www.tensorflow.org/api_docs/python/tf/layers) or [TensorFlow Layers (contrib)](https://www.tensorflow.org/api_guides/python/contrib.layers) packages for this layer. For more of a challenge, only use other TensorFlow packages.\n",
    "\n",
    "**Note:** Activation, softmax, or cross entropy should **not** be applied to this."
   ]
  },
  {
   "cell_type": "code",
   "execution_count": 62,
   "metadata": {
    "collapsed": false,
    "deletable": true,
    "editable": true
   },
   "outputs": [
    {
     "name": "stdout",
     "output_type": "stream",
     "text": [
      "Tests Passed\n"
     ]
    }
   ],
   "source": [
    "def output(x_tensor, num_outputs):\n",
    "    \"\"\"\n",
    "    Apply a output layer to x_tensor using weight and bias\n",
    "    : x_tensor: A 2-D tensor where the first dimension is batch size.\n",
    "    : num_outputs: The number of output that the new tensor should be.\n",
    "    : return: A 2-D tensor where the second dimension is num_outputs.\n",
    "    \"\"\"\n",
    "    # TODO: Implement Function\n",
    "    w_shape = [int(x_tensor.get_shape().as_list()[1]), num_outputs]\n",
    "    \n",
    "    w = tf.Variable(tf.random_normal(w_shape, stddev=0.1))\n",
    "    b = tf.Variable(tf.zeros(num_outputs))\n",
    "    \n",
    "    x = tf.add(tf.matmul(x_tensor, w), b)\n",
    "    \n",
    "    return x\n",
    "\n",
    "\n",
    "\"\"\"\n",
    "DON'T MODIFY ANYTHING IN THIS CELL THAT IS BELOW THIS LINE\n",
    "\"\"\"\n",
    "tests.test_output(output)"
   ]
  },
  {
   "cell_type": "markdown",
   "metadata": {
    "deletable": true,
    "editable": true
   },
   "source": [
    "### Create Convolutional Model\n",
    "Implement the function `conv_net` to create a convolutional neural network model. The function takes in a batch of images, `x`, and outputs logits.  Use the layers you created above to create this model:\n",
    "\n",
    "* Apply 1, 2, or 3 Convolution and Max Pool layers\n",
    "* Apply a Flatten Layer\n",
    "* Apply 1, 2, or 3 Fully Connected Layers\n",
    "* Apply an Output Layer\n",
    "* Return the output\n",
    "* Apply [TensorFlow's Dropout](https://www.tensorflow.org/api_docs/python/tf/nn/dropout) to one or more layers in the model using `keep_prob`. "
   ]
  },
  {
   "cell_type": "code",
   "execution_count": 64,
   "metadata": {
    "collapsed": false,
    "deletable": true,
    "editable": true
   },
   "outputs": [
    {
     "name": "stdout",
     "output_type": "stream",
     "text": [
      "Neural Network Built!\n"
     ]
    }
   ],
   "source": [
    "def conv_net(x, keep_prob):\n",
    "    \"\"\"\n",
    "    Create a convolutional neural network model\n",
    "    : x: Placeholder tensor that holds image data.\n",
    "    : keep_prob: Placeholder tensor that hold dropout keep probability.\n",
    "    : return: Tensor that represents logits\n",
    "    \"\"\"\n",
    "    # TODO: Apply 1, 2, or 3 Convolution and Max Pool layers\n",
    "    #    Play around with different number of outputs, kernel size and stride\n",
    "    x = conv2d_maxpool(x, 32, (3, 3), (1, 1), (2, 2), (2, 2))\n",
    "    x = conv2d_maxpool(x, 32, (3, 3), (2, 2), (2, 2), (2, 2))\n",
    "    x = conv2d_maxpool(x, 64, (3, 3), (1, 1), (2, 2), (2, 2))\n",
    "\n",
    "    \n",
    "    # TODO: Apply a Flatten Layer\n",
    "    x = flatten(x)\n",
    "    \n",
    "\n",
    "    # TODO: Apply 1, 2, or 3 Fully Connected Layers\n",
    "    #    Play around with different number of outputs\n",
    "    x = fully_conn(x, 512)\n",
    "    x = tf.nn.dropout(x, keep_prob)\n",
    "    x = fully_conn(x, 128)\n",
    "    x = tf.nn.dropout(x, keep_prob)\n",
    "    x = fully_conn(x, 32)\n",
    "    x = tf.nn.dropout(x, keep_prob)    \n",
    "    \n",
    "    # TODO: Apply an Output Layer\n",
    "    #    Set this to the number of classes\n",
    "    out = output(x, 10)\n",
    "    \n",
    "    \n",
    "    # TODO: return output\n",
    "    return out\n",
    "\n",
    "\n",
    "\"\"\"\n",
    "DON'T MODIFY ANYTHING IN THIS CELL THAT IS BELOW THIS LINE\n",
    "\"\"\"\n",
    "\n",
    "##############################\n",
    "## Build the Neural Network ##\n",
    "##############################\n",
    "\n",
    "# Remove previous weights, bias, inputs, etc..\n",
    "tf.reset_default_graph()\n",
    "\n",
    "# Inputs\n",
    "x = neural_net_image_input((32, 32, 3))\n",
    "y = neural_net_label_input(10)\n",
    "keep_prob = neural_net_keep_prob_input()\n",
    "\n",
    "# Model\n",
    "logits = conv_net(x, keep_prob)\n",
    "\n",
    "# Name logits Tensor, so that is can be loaded from disk after training\n",
    "logits = tf.identity(logits, name='logits')\n",
    "\n",
    "# Loss and Optimizer\n",
    "cost = tf.reduce_mean(tf.nn.softmax_cross_entropy_with_logits(logits=logits, labels=y))\n",
    "optimizer = tf.train.AdamOptimizer().minimize(cost)\n",
    "\n",
    "# Accuracy\n",
    "correct_pred = tf.equal(tf.argmax(logits, 1), tf.argmax(y, 1))\n",
    "accuracy = tf.reduce_mean(tf.cast(correct_pred, tf.float32), name='accuracy')\n",
    "\n",
    "tests.test_conv_net(conv_net)"
   ]
  },
  {
   "cell_type": "markdown",
   "metadata": {
    "deletable": true,
    "editable": true
   },
   "source": [
    "## Train the Neural Network\n",
    "### Single Optimization\n",
    "Implement the function `train_neural_network` to do a single optimization.  The optimization should use `optimizer` to optimize in `session` with a `feed_dict` of the following:\n",
    "* `x` for image input\n",
    "* `y` for labels\n",
    "* `keep_prob` for keep probability for dropout\n",
    "\n",
    "This function will be called for each batch, so `tf.global_variables_initializer()` has already been called.\n",
    "\n",
    "Note: Nothing needs to be returned. This function is only optimizing the neural network."
   ]
  },
  {
   "cell_type": "code",
   "execution_count": 65,
   "metadata": {
    "collapsed": false,
    "deletable": true,
    "editable": true
   },
   "outputs": [
    {
     "name": "stdout",
     "output_type": "stream",
     "text": [
      "Tests Passed\n"
     ]
    }
   ],
   "source": [
    "def train_neural_network(session, optimizer, keep_probability, feature_batch, label_batch):\n",
    "    \"\"\"\n",
    "    Optimize the session on a batch of images and labels\n",
    "    : session: Current TensorFlow session\n",
    "    : optimizer: TensorFlow optimizer function\n",
    "    : keep_probability: keep probability\n",
    "    : feature_batch: Batch of Numpy image data\n",
    "    : label_batch: Batch of Numpy label data\n",
    "    \"\"\"\n",
    "    # TODO: Implement Function\n",
    "    session.run(optimizer, feed_dict={\n",
    "        x: feature_batch,\n",
    "        y: label_batch,\n",
    "        keep_prob: keep_probability\n",
    "    })\n",
    "\n",
    "\n",
    "\"\"\"\n",
    "DON'T MODIFY ANYTHING IN THIS CELL THAT IS BELOW THIS LINE\n",
    "\"\"\"\n",
    "tests.test_train_nn(train_neural_network)"
   ]
  },
  {
   "cell_type": "markdown",
   "metadata": {
    "deletable": true,
    "editable": true
   },
   "source": [
    "### Show Stats\n",
    "Implement the function `print_stats` to print loss and validation accuracy.  Use the global variables `valid_features` and `valid_labels` to calculate validation accuracy.  Use a keep probability of `1.0` to calculate the loss and validation accuracy."
   ]
  },
  {
   "cell_type": "code",
   "execution_count": 66,
   "metadata": {
    "collapsed": false,
    "deletable": true,
    "editable": true
   },
   "outputs": [],
   "source": [
    "def print_stats(session, feature_batch, label_batch, cost, accuracy):\n",
    "    \"\"\"\n",
    "    Print information about loss and validation accuracy\n",
    "    : session: Current TensorFlow session\n",
    "    : feature_batch: Batch of Numpy image data\n",
    "    : label_batch: Batch of Numpy label data\n",
    "    : cost: TensorFlow cost function\n",
    "    : accuracy: TensorFlow accuracy function\n",
    "    \"\"\"\n",
    "    loss = session.run(cost, feed_dict={\n",
    "        x: feature_batch,\n",
    "        y: label_batch,\n",
    "        keep_prob: 1.\n",
    "    })\n",
    "    \n",
    "    valid_accuracy = session.run(accuracy, feed_dict={\n",
    "        x: valid_features,\n",
    "        y: valid_labels,\n",
    "        keep_prob: 1.\n",
    "    })\n",
    "\n",
    "    print('Loss: {:>10.4f} Validation Accuracy: {:.6f}'.format(loss, valid_accuracy))"
   ]
  },
  {
   "cell_type": "markdown",
   "metadata": {
    "deletable": true,
    "editable": true
   },
   "source": [
    "### Hyperparameters\n",
    "Tune the following parameters:\n",
    "* Set `epochs` to the number of iterations until the network stops learning or start overfitting\n",
    "* Set `batch_size` to the highest number that your machine has memory for.  Most people set them to common sizes of memory:\n",
    " * 64\n",
    " * 128\n",
    " * 256\n",
    " * ...\n",
    "* Set `keep_probability` to the probability of keeping a node using dropout"
   ]
  },
  {
   "cell_type": "code",
   "execution_count": 30,
   "metadata": {
    "collapsed": true,
    "deletable": true,
    "editable": true
   },
   "outputs": [],
   "source": [
    "# TODO: Tune Parameters\n",
    "epochs = 50\n",
    "batch_size = 256\n",
    "keep_probability = 0.5"
   ]
  },
  {
   "cell_type": "markdown",
   "metadata": {
    "deletable": true,
    "editable": true
   },
   "source": [
    "### Train on a Single CIFAR-10 Batch\n",
    "Instead of training the neural network on all the CIFAR-10 batches of data, let's use a single batch. This should save time while you iterate on the model to get a better accuracy.  Once the final validation accuracy is 50% or greater, run the model on all the data in the next section."
   ]
  },
  {
   "cell_type": "code",
   "execution_count": 67,
   "metadata": {
    "collapsed": false,
    "deletable": true,
    "editable": true
   },
   "outputs": [
    {
     "name": "stdout",
     "output_type": "stream",
     "text": [
      "Checking the Training on a Single Batch...\n",
      "Epoch  1, CIFAR-10 Batch 1:  Loss:     2.2609 Validation Accuracy: 0.169600\n",
      "Epoch  2, CIFAR-10 Batch 1:  Loss:     2.2023 Validation Accuracy: 0.188000\n",
      "Epoch  3, CIFAR-10 Batch 1:  Loss:     2.1112 Validation Accuracy: 0.241200\n",
      "Epoch  4, CIFAR-10 Batch 1:  Loss:     2.0430 Validation Accuracy: 0.273600\n",
      "Epoch  5, CIFAR-10 Batch 1:  Loss:     1.9337 Validation Accuracy: 0.293400\n",
      "Epoch  6, CIFAR-10 Batch 1:  Loss:     1.8392 Validation Accuracy: 0.333600\n",
      "Epoch  7, CIFAR-10 Batch 1:  Loss:     1.7031 Validation Accuracy: 0.366200\n",
      "Epoch  8, CIFAR-10 Batch 1:  Loss:     1.6306 Validation Accuracy: 0.351000\n",
      "Epoch  9, CIFAR-10 Batch 1:  Loss:     1.4720 Validation Accuracy: 0.378200\n",
      "Epoch 10, CIFAR-10 Batch 1:  Loss:     1.4184 Validation Accuracy: 0.406400\n",
      "Epoch 11, CIFAR-10 Batch 1:  Loss:     1.3484 Validation Accuracy: 0.406600\n",
      "Epoch 12, CIFAR-10 Batch 1:  Loss:     1.2616 Validation Accuracy: 0.393800\n",
      "Epoch 13, CIFAR-10 Batch 1:  Loss:     1.2113 Validation Accuracy: 0.409600\n",
      "Epoch 14, CIFAR-10 Batch 1:  Loss:     1.1365 Validation Accuracy: 0.432800\n",
      "Epoch 15, CIFAR-10 Batch 1:  Loss:     1.0573 Validation Accuracy: 0.449200\n",
      "Epoch 16, CIFAR-10 Batch 1:  Loss:     1.0400 Validation Accuracy: 0.453200\n",
      "Epoch 17, CIFAR-10 Batch 1:  Loss:     0.9906 Validation Accuracy: 0.454200\n",
      "Epoch 18, CIFAR-10 Batch 1:  Loss:     0.9280 Validation Accuracy: 0.467600\n",
      "Epoch 19, CIFAR-10 Batch 1:  Loss:     0.8938 Validation Accuracy: 0.459600\n",
      "Epoch 20, CIFAR-10 Batch 1:  Loss:     0.8123 Validation Accuracy: 0.476000\n",
      "Epoch 21, CIFAR-10 Batch 1:  Loss:     0.7577 Validation Accuracy: 0.466200\n",
      "Epoch 22, CIFAR-10 Batch 1:  Loss:     0.6872 Validation Accuracy: 0.488200\n",
      "Epoch 23, CIFAR-10 Batch 1:  Loss:     0.6912 Validation Accuracy: 0.482400\n",
      "Epoch 24, CIFAR-10 Batch 1:  Loss:     0.7227 Validation Accuracy: 0.466800\n",
      "Epoch 25, CIFAR-10 Batch 1:  Loss:     0.6043 Validation Accuracy: 0.482200\n",
      "Epoch 26, CIFAR-10 Batch 1:  Loss:     0.5962 Validation Accuracy: 0.487200\n",
      "Epoch 27, CIFAR-10 Batch 1:  Loss:     0.5227 Validation Accuracy: 0.487800\n",
      "Epoch 28, CIFAR-10 Batch 1:  Loss:     0.5077 Validation Accuracy: 0.501600\n",
      "Epoch 29, CIFAR-10 Batch 1:  Loss:     0.5290 Validation Accuracy: 0.468400\n",
      "Epoch 30, CIFAR-10 Batch 1:  Loss:     0.4965 Validation Accuracy: 0.503200\n",
      "Epoch 31, CIFAR-10 Batch 1:  Loss:     0.5044 Validation Accuracy: 0.506800\n",
      "Epoch 32, CIFAR-10 Batch 1:  Loss:     0.4829 Validation Accuracy: 0.497600\n",
      "Epoch 33, CIFAR-10 Batch 1:  Loss:     0.4729 Validation Accuracy: 0.503000\n",
      "Epoch 34, CIFAR-10 Batch 1:  Loss:     0.4332 Validation Accuracy: 0.495400\n",
      "Epoch 35, CIFAR-10 Batch 1:  Loss:     0.4378 Validation Accuracy: 0.494600\n",
      "Epoch 36, CIFAR-10 Batch 1:  Loss:     0.4439 Validation Accuracy: 0.502200\n",
      "Epoch 37, CIFAR-10 Batch 1:  Loss:     0.4590 Validation Accuracy: 0.488000\n",
      "Epoch 38, CIFAR-10 Batch 1:  Loss:     0.4078 Validation Accuracy: 0.506600\n",
      "Epoch 39, CIFAR-10 Batch 1:  Loss:     0.4161 Validation Accuracy: 0.477000\n",
      "Epoch 40, CIFAR-10 Batch 1:  Loss:     0.3659 Validation Accuracy: 0.507200\n",
      "Epoch 41, CIFAR-10 Batch 1:  Loss:     0.3311 Validation Accuracy: 0.512200\n",
      "Epoch 42, CIFAR-10 Batch 1:  Loss:     0.3198 Validation Accuracy: 0.508000\n",
      "Epoch 43, CIFAR-10 Batch 1:  Loss:     0.3479 Validation Accuracy: 0.483200\n",
      "Epoch 44, CIFAR-10 Batch 1:  Loss:     0.3322 Validation Accuracy: 0.493800\n",
      "Epoch 45, CIFAR-10 Batch 1:  Loss:     0.2939 Validation Accuracy: 0.494800\n",
      "Epoch 46, CIFAR-10 Batch 1:  Loss:     0.2846 Validation Accuracy: 0.497400\n",
      "Epoch 47, CIFAR-10 Batch 1:  Loss:     0.2808 Validation Accuracy: 0.505200\n",
      "Epoch 48, CIFAR-10 Batch 1:  Loss:     0.2698 Validation Accuracy: 0.515000\n",
      "Epoch 49, CIFAR-10 Batch 1:  Loss:     0.2541 Validation Accuracy: 0.502600\n",
      "Epoch 50, CIFAR-10 Batch 1:  Loss:     0.2607 Validation Accuracy: 0.521800\n"
     ]
    }
   ],
   "source": [
    "\"\"\"\n",
    "DON'T MODIFY ANYTHING IN THIS CELL\n",
    "\"\"\"\n",
    "print('Checking the Training on a Single Batch...')\n",
    "with tf.Session() as sess:\n",
    "    # Initializing the variables\n",
    "    sess.run(tf.global_variables_initializer())\n",
    "    \n",
    "    # Training cycle\n",
    "    for epoch in range(epochs):\n",
    "        batch_i = 1\n",
    "        for batch_features, batch_labels in helper.load_preprocess_training_batch(batch_i, batch_size):\n",
    "            train_neural_network(sess, optimizer, keep_probability, batch_features, batch_labels)\n",
    "        print('Epoch {:>2}, CIFAR-10 Batch {}:  '.format(epoch + 1, batch_i), end='')\n",
    "        print_stats(sess, batch_features, batch_labels, cost, accuracy)"
   ]
  },
  {
   "cell_type": "markdown",
   "metadata": {
    "deletable": true,
    "editable": true
   },
   "source": [
    "### Fully Train the Model\n",
    "Now that you got a good accuracy with a single CIFAR-10 batch, try it with all five batches."
   ]
  },
  {
   "cell_type": "code",
   "execution_count": 68,
   "metadata": {
    "collapsed": false,
    "deletable": true,
    "editable": true
   },
   "outputs": [
    {
     "name": "stdout",
     "output_type": "stream",
     "text": [
      "Training...\n",
      "Epoch  1, CIFAR-10 Batch 1:  Loss:     2.2861 Validation Accuracy: 0.155600\n",
      "Epoch  1, CIFAR-10 Batch 2:  Loss:     2.2240 Validation Accuracy: 0.192800\n",
      "Epoch  1, CIFAR-10 Batch 3:  Loss:     1.9833 Validation Accuracy: 0.222400\n",
      "Epoch  1, CIFAR-10 Batch 4:  Loss:     1.9217 Validation Accuracy: 0.250600\n",
      "Epoch  1, CIFAR-10 Batch 5:  Loss:     1.9118 Validation Accuracy: 0.316800\n",
      "Epoch  2, CIFAR-10 Batch 1:  Loss:     1.9829 Validation Accuracy: 0.351600\n",
      "Epoch  2, CIFAR-10 Batch 2:  Loss:     1.8183 Validation Accuracy: 0.358000\n",
      "Epoch  2, CIFAR-10 Batch 3:  Loss:     1.5356 Validation Accuracy: 0.342800\n",
      "Epoch  2, CIFAR-10 Batch 4:  Loss:     1.5920 Validation Accuracy: 0.378800\n",
      "Epoch  2, CIFAR-10 Batch 5:  Loss:     1.5837 Validation Accuracy: 0.393800\n",
      "Epoch  3, CIFAR-10 Batch 1:  Loss:     1.8141 Validation Accuracy: 0.382600\n",
      "Epoch  3, CIFAR-10 Batch 2:  Loss:     1.6468 Validation Accuracy: 0.402800\n",
      "Epoch  3, CIFAR-10 Batch 3:  Loss:     1.2914 Validation Accuracy: 0.428200\n",
      "Epoch  3, CIFAR-10 Batch 4:  Loss:     1.4499 Validation Accuracy: 0.413000\n",
      "Epoch  3, CIFAR-10 Batch 5:  Loss:     1.4022 Validation Accuracy: 0.446400\n",
      "Epoch  4, CIFAR-10 Batch 1:  Loss:     1.4347 Validation Accuracy: 0.440200\n",
      "Epoch  4, CIFAR-10 Batch 2:  Loss:     1.5854 Validation Accuracy: 0.460800\n",
      "Epoch  4, CIFAR-10 Batch 3:  Loss:     1.1243 Validation Accuracy: 0.454400\n",
      "Epoch  4, CIFAR-10 Batch 4:  Loss:     1.3417 Validation Accuracy: 0.490000\n",
      "Epoch  4, CIFAR-10 Batch 5:  Loss:     1.2821 Validation Accuracy: 0.481200\n",
      "Epoch  5, CIFAR-10 Batch 1:  Loss:     1.2681 Validation Accuracy: 0.496200\n",
      "Epoch  5, CIFAR-10 Batch 2:  Loss:     1.3486 Validation Accuracy: 0.478800\n",
      "Epoch  5, CIFAR-10 Batch 3:  Loss:     1.0720 Validation Accuracy: 0.492200\n",
      "Epoch  5, CIFAR-10 Batch 4:  Loss:     1.1983 Validation Accuracy: 0.502000\n",
      "Epoch  5, CIFAR-10 Batch 5:  Loss:     1.1738 Validation Accuracy: 0.499400\n",
      "Epoch  6, CIFAR-10 Batch 1:  Loss:     1.2062 Validation Accuracy: 0.512200\n",
      "Epoch  6, CIFAR-10 Batch 2:  Loss:     1.2533 Validation Accuracy: 0.502600\n",
      "Epoch  6, CIFAR-10 Batch 3:  Loss:     0.9084 Validation Accuracy: 0.524000\n",
      "Epoch  6, CIFAR-10 Batch 4:  Loss:     1.1472 Validation Accuracy: 0.514200\n",
      "Epoch  6, CIFAR-10 Batch 5:  Loss:     1.0952 Validation Accuracy: 0.535000\n",
      "Epoch  7, CIFAR-10 Batch 1:  Loss:     1.0961 Validation Accuracy: 0.536200\n",
      "Epoch  7, CIFAR-10 Batch 2:  Loss:     1.1209 Validation Accuracy: 0.528200\n",
      "Epoch  7, CIFAR-10 Batch 3:  Loss:     0.9238 Validation Accuracy: 0.537600\n",
      "Epoch  7, CIFAR-10 Batch 4:  Loss:     1.0187 Validation Accuracy: 0.550400\n",
      "Epoch  7, CIFAR-10 Batch 5:  Loss:     0.9920 Validation Accuracy: 0.538200\n",
      "Epoch  8, CIFAR-10 Batch 1:  Loss:     0.9639 Validation Accuracy: 0.534200\n",
      "Epoch  8, CIFAR-10 Batch 2:  Loss:     1.0391 Validation Accuracy: 0.530400\n",
      "Epoch  8, CIFAR-10 Batch 3:  Loss:     0.8935 Validation Accuracy: 0.545600\n",
      "Epoch  8, CIFAR-10 Batch 4:  Loss:     0.9746 Validation Accuracy: 0.556200\n",
      "Epoch  8, CIFAR-10 Batch 5:  Loss:     0.9064 Validation Accuracy: 0.563600\n",
      "Epoch  9, CIFAR-10 Batch 1:  Loss:     0.9337 Validation Accuracy: 0.560200\n",
      "Epoch  9, CIFAR-10 Batch 2:  Loss:     0.8740 Validation Accuracy: 0.557200\n",
      "Epoch  9, CIFAR-10 Batch 3:  Loss:     0.7721 Validation Accuracy: 0.562000\n",
      "Epoch  9, CIFAR-10 Batch 4:  Loss:     0.8861 Validation Accuracy: 0.562800\n",
      "Epoch  9, CIFAR-10 Batch 5:  Loss:     0.8298 Validation Accuracy: 0.568000\n",
      "Epoch 10, CIFAR-10 Batch 1:  Loss:     0.8758 Validation Accuracy: 0.568400\n",
      "Epoch 10, CIFAR-10 Batch 2:  Loss:     0.8367 Validation Accuracy: 0.558200\n",
      "Epoch 10, CIFAR-10 Batch 3:  Loss:     0.6967 Validation Accuracy: 0.578000\n",
      "Epoch 10, CIFAR-10 Batch 4:  Loss:     0.8243 Validation Accuracy: 0.579000\n",
      "Epoch 10, CIFAR-10 Batch 5:  Loss:     0.7359 Validation Accuracy: 0.570400\n",
      "Epoch 11, CIFAR-10 Batch 1:  Loss:     0.8262 Validation Accuracy: 0.571200\n",
      "Epoch 11, CIFAR-10 Batch 2:  Loss:     0.7623 Validation Accuracy: 0.579600\n",
      "Epoch 11, CIFAR-10 Batch 3:  Loss:     0.6460 Validation Accuracy: 0.567800\n",
      "Epoch 11, CIFAR-10 Batch 4:  Loss:     0.8072 Validation Accuracy: 0.582000\n",
      "Epoch 11, CIFAR-10 Batch 5:  Loss:     0.7263 Validation Accuracy: 0.588000\n",
      "Epoch 12, CIFAR-10 Batch 1:  Loss:     0.7861 Validation Accuracy: 0.589000\n",
      "Epoch 12, CIFAR-10 Batch 2:  Loss:     0.7313 Validation Accuracy: 0.583000\n",
      "Epoch 12, CIFAR-10 Batch 3:  Loss:     0.6423 Validation Accuracy: 0.584800\n",
      "Epoch 12, CIFAR-10 Batch 4:  Loss:     0.7359 Validation Accuracy: 0.592600\n",
      "Epoch 12, CIFAR-10 Batch 5:  Loss:     0.6864 Validation Accuracy: 0.570800\n",
      "Epoch 13, CIFAR-10 Batch 1:  Loss:     0.7276 Validation Accuracy: 0.592600\n",
      "Epoch 13, CIFAR-10 Batch 2:  Loss:     0.6883 Validation Accuracy: 0.577000\n",
      "Epoch 13, CIFAR-10 Batch 3:  Loss:     0.6075 Validation Accuracy: 0.597800\n",
      "Epoch 13, CIFAR-10 Batch 4:  Loss:     0.6457 Validation Accuracy: 0.603000\n",
      "Epoch 13, CIFAR-10 Batch 5:  Loss:     0.6362 Validation Accuracy: 0.595400\n",
      "Epoch 14, CIFAR-10 Batch 1:  Loss:     0.6947 Validation Accuracy: 0.588400\n",
      "Epoch 14, CIFAR-10 Batch 2:  Loss:     0.6044 Validation Accuracy: 0.604800\n",
      "Epoch 14, CIFAR-10 Batch 3:  Loss:     0.5206 Validation Accuracy: 0.596600\n",
      "Epoch 14, CIFAR-10 Batch 4:  Loss:     0.6221 Validation Accuracy: 0.609400\n",
      "Epoch 14, CIFAR-10 Batch 5:  Loss:     0.5912 Validation Accuracy: 0.606200\n",
      "Epoch 15, CIFAR-10 Batch 1:  Loss:     0.6289 Validation Accuracy: 0.609000\n",
      "Epoch 15, CIFAR-10 Batch 2:  Loss:     0.5769 Validation Accuracy: 0.592400\n",
      "Epoch 15, CIFAR-10 Batch 3:  Loss:     0.5248 Validation Accuracy: 0.599200\n",
      "Epoch 15, CIFAR-10 Batch 4:  Loss:     0.6151 Validation Accuracy: 0.612000\n",
      "Epoch 15, CIFAR-10 Batch 5:  Loss:     0.5416 Validation Accuracy: 0.609600\n",
      "Epoch 16, CIFAR-10 Batch 1:  Loss:     0.6137 Validation Accuracy: 0.609200\n",
      "Epoch 16, CIFAR-10 Batch 2:  Loss:     0.5529 Validation Accuracy: 0.602600\n",
      "Epoch 16, CIFAR-10 Batch 3:  Loss:     0.4798 Validation Accuracy: 0.612800\n",
      "Epoch 16, CIFAR-10 Batch 4:  Loss:     0.5606 Validation Accuracy: 0.616600\n",
      "Epoch 16, CIFAR-10 Batch 5:  Loss:     0.5243 Validation Accuracy: 0.618400\n",
      "Epoch 17, CIFAR-10 Batch 1:  Loss:     0.5840 Validation Accuracy: 0.621400\n",
      "Epoch 17, CIFAR-10 Batch 2:  Loss:     0.5277 Validation Accuracy: 0.612400\n",
      "Epoch 17, CIFAR-10 Batch 3:  Loss:     0.4747 Validation Accuracy: 0.611000\n",
      "Epoch 17, CIFAR-10 Batch 4:  Loss:     0.5023 Validation Accuracy: 0.619400\n",
      "Epoch 17, CIFAR-10 Batch 5:  Loss:     0.5120 Validation Accuracy: 0.613400\n",
      "Epoch 18, CIFAR-10 Batch 1:  Loss:     0.5369 Validation Accuracy: 0.620800\n",
      "Epoch 18, CIFAR-10 Batch 2:  Loss:     0.4542 Validation Accuracy: 0.612600\n",
      "Epoch 18, CIFAR-10 Batch 3:  Loss:     0.4396 Validation Accuracy: 0.608400\n",
      "Epoch 18, CIFAR-10 Batch 4:  Loss:     0.4933 Validation Accuracy: 0.622800\n",
      "Epoch 18, CIFAR-10 Batch 5:  Loss:     0.4694 Validation Accuracy: 0.624000\n",
      "Epoch 19, CIFAR-10 Batch 1:  Loss:     0.5162 Validation Accuracy: 0.622200\n",
      "Epoch 19, CIFAR-10 Batch 2:  Loss:     0.4542 Validation Accuracy: 0.608400\n",
      "Epoch 19, CIFAR-10 Batch 3:  Loss:     0.3797 Validation Accuracy: 0.613600\n",
      "Epoch 19, CIFAR-10 Batch 4:  Loss:     0.4239 Validation Accuracy: 0.623400\n",
      "Epoch 19, CIFAR-10 Batch 5:  Loss:     0.4668 Validation Accuracy: 0.624800\n",
      "Epoch 20, CIFAR-10 Batch 1:  Loss:     0.5100 Validation Accuracy: 0.621600\n",
      "Epoch 20, CIFAR-10 Batch 2:  Loss:     0.4256 Validation Accuracy: 0.619200\n",
      "Epoch 20, CIFAR-10 Batch 3:  Loss:     0.3806 Validation Accuracy: 0.606000\n",
      "Epoch 20, CIFAR-10 Batch 4:  Loss:     0.4131 Validation Accuracy: 0.626400\n",
      "Epoch 20, CIFAR-10 Batch 5:  Loss:     0.4378 Validation Accuracy: 0.626000\n",
      "Epoch 21, CIFAR-10 Batch 1:  Loss:     0.4957 Validation Accuracy: 0.624400\n",
      "Epoch 21, CIFAR-10 Batch 2:  Loss:     0.4552 Validation Accuracy: 0.627800\n",
      "Epoch 21, CIFAR-10 Batch 3:  Loss:     0.4434 Validation Accuracy: 0.583400\n",
      "Epoch 21, CIFAR-10 Batch 4:  Loss:     0.3767 Validation Accuracy: 0.633200\n",
      "Epoch 21, CIFAR-10 Batch 5:  Loss:     0.4241 Validation Accuracy: 0.620200\n",
      "Epoch 22, CIFAR-10 Batch 1:  Loss:     0.4773 Validation Accuracy: 0.626600\n",
      "Epoch 22, CIFAR-10 Batch 2:  Loss:     0.4008 Validation Accuracy: 0.619400\n",
      "Epoch 22, CIFAR-10 Batch 3:  Loss:     0.3538 Validation Accuracy: 0.607200\n",
      "Epoch 22, CIFAR-10 Batch 4:  Loss:     0.3846 Validation Accuracy: 0.641400\n",
      "Epoch 22, CIFAR-10 Batch 5:  Loss:     0.3790 Validation Accuracy: 0.630600\n",
      "Epoch 23, CIFAR-10 Batch 1:  Loss:     0.4751 Validation Accuracy: 0.624200\n",
      "Epoch 23, CIFAR-10 Batch 2:  Loss:     0.3761 Validation Accuracy: 0.638400\n",
      "Epoch 23, CIFAR-10 Batch 3:  Loss:     0.3422 Validation Accuracy: 0.626600\n",
      "Epoch 23, CIFAR-10 Batch 4:  Loss:     0.3937 Validation Accuracy: 0.642400\n",
      "Epoch 23, CIFAR-10 Batch 5:  Loss:     0.3731 Validation Accuracy: 0.628600\n",
      "Epoch 24, CIFAR-10 Batch 1:  Loss:     0.4617 Validation Accuracy: 0.630400\n",
      "Epoch 24, CIFAR-10 Batch 2:  Loss:     0.3996 Validation Accuracy: 0.640000\n",
      "Epoch 24, CIFAR-10 Batch 3:  Loss:     0.3251 Validation Accuracy: 0.615200\n",
      "Epoch 24, CIFAR-10 Batch 4:  Loss:     0.3553 Validation Accuracy: 0.634600\n",
      "Epoch 24, CIFAR-10 Batch 5:  Loss:     0.3324 Validation Accuracy: 0.637200\n",
      "Epoch 25, CIFAR-10 Batch 1:  Loss:     0.4076 Validation Accuracy: 0.637400\n",
      "Epoch 25, CIFAR-10 Batch 2:  Loss:     0.3280 Validation Accuracy: 0.641200\n",
      "Epoch 25, CIFAR-10 Batch 3:  Loss:     0.2901 Validation Accuracy: 0.625000\n",
      "Epoch 25, CIFAR-10 Batch 4:  Loss:     0.3274 Validation Accuracy: 0.648200\n",
      "Epoch 25, CIFAR-10 Batch 5:  Loss:     0.3876 Validation Accuracy: 0.630200\n",
      "Epoch 26, CIFAR-10 Batch 1:  Loss:     0.4235 Validation Accuracy: 0.641400\n",
      "Epoch 26, CIFAR-10 Batch 2:  Loss:     0.3954 Validation Accuracy: 0.641600\n",
      "Epoch 26, CIFAR-10 Batch 3:  Loss:     0.2555 Validation Accuracy: 0.621000\n",
      "Epoch 26, CIFAR-10 Batch 4:  Loss:     0.3264 Validation Accuracy: 0.648400\n",
      "Epoch 26, CIFAR-10 Batch 5:  Loss:     0.3326 Validation Accuracy: 0.630200\n",
      "Epoch 27, CIFAR-10 Batch 1:  Loss:     0.4158 Validation Accuracy: 0.638600\n",
      "Epoch 27, CIFAR-10 Batch 2:  Loss:     0.3627 Validation Accuracy: 0.641600\n",
      "Epoch 27, CIFAR-10 Batch 3:  Loss:     0.2910 Validation Accuracy: 0.624400\n",
      "Epoch 27, CIFAR-10 Batch 4:  Loss:     0.3156 Validation Accuracy: 0.641600\n",
      "Epoch 27, CIFAR-10 Batch 5:  Loss:     0.2984 Validation Accuracy: 0.634400\n",
      "Epoch 28, CIFAR-10 Batch 1:  Loss:     0.4056 Validation Accuracy: 0.649200\n",
      "Epoch 28, CIFAR-10 Batch 2:  Loss:     0.3552 Validation Accuracy: 0.647200\n",
      "Epoch 28, CIFAR-10 Batch 3:  Loss:     0.2431 Validation Accuracy: 0.645000\n",
      "Epoch 28, CIFAR-10 Batch 4:  Loss:     0.2489 Validation Accuracy: 0.649600\n",
      "Epoch 28, CIFAR-10 Batch 5:  Loss:     0.2963 Validation Accuracy: 0.650200\n",
      "Epoch 29, CIFAR-10 Batch 1:  Loss:     0.3649 Validation Accuracy: 0.648000\n",
      "Epoch 29, CIFAR-10 Batch 2:  Loss:     0.3056 Validation Accuracy: 0.642800\n",
      "Epoch 29, CIFAR-10 Batch 3:  Loss:     0.2216 Validation Accuracy: 0.633000\n",
      "Epoch 29, CIFAR-10 Batch 4:  Loss:     0.2787 Validation Accuracy: 0.646600\n",
      "Epoch 29, CIFAR-10 Batch 5:  Loss:     0.2673 Validation Accuracy: 0.644200\n",
      "Epoch 30, CIFAR-10 Batch 1:  Loss:     0.3761 Validation Accuracy: 0.635000\n",
      "Epoch 30, CIFAR-10 Batch 2:  Loss:     0.3745 Validation Accuracy: 0.633600\n",
      "Epoch 30, CIFAR-10 Batch 3:  Loss:     0.2159 Validation Accuracy: 0.615200\n",
      "Epoch 30, CIFAR-10 Batch 4:  Loss:     0.2620 Validation Accuracy: 0.653000\n",
      "Epoch 30, CIFAR-10 Batch 5:  Loss:     0.2492 Validation Accuracy: 0.636400\n",
      "Epoch 31, CIFAR-10 Batch 1:  Loss:     0.3398 Validation Accuracy: 0.652600\n",
      "Epoch 31, CIFAR-10 Batch 2:  Loss:     0.3180 Validation Accuracy: 0.643400\n",
      "Epoch 31, CIFAR-10 Batch 3:  Loss:     0.2062 Validation Accuracy: 0.639800\n",
      "Epoch 31, CIFAR-10 Batch 4:  Loss:     0.2559 Validation Accuracy: 0.651400\n",
      "Epoch 31, CIFAR-10 Batch 5:  Loss:     0.2359 Validation Accuracy: 0.652200\n",
      "Epoch 32, CIFAR-10 Batch 1:  Loss:     0.3543 Validation Accuracy: 0.654600\n",
      "Epoch 32, CIFAR-10 Batch 2:  Loss:     0.3272 Validation Accuracy: 0.635400\n",
      "Epoch 32, CIFAR-10 Batch 3:  Loss:     0.2813 Validation Accuracy: 0.637800\n",
      "Epoch 32, CIFAR-10 Batch 4:  Loss:     0.2237 Validation Accuracy: 0.648600\n",
      "Epoch 32, CIFAR-10 Batch 5:  Loss:     0.2757 Validation Accuracy: 0.641200\n",
      "Epoch 33, CIFAR-10 Batch 1:  Loss:     0.3431 Validation Accuracy: 0.646000\n",
      "Epoch 33, CIFAR-10 Batch 2:  Loss:     0.2830 Validation Accuracy: 0.653200\n",
      "Epoch 33, CIFAR-10 Batch 3:  Loss:     0.2029 Validation Accuracy: 0.643800\n",
      "Epoch 33, CIFAR-10 Batch 4:  Loss:     0.2348 Validation Accuracy: 0.648000\n",
      "Epoch 33, CIFAR-10 Batch 5:  Loss:     0.2355 Validation Accuracy: 0.653600\n",
      "Epoch 34, CIFAR-10 Batch 1:  Loss:     0.3076 Validation Accuracy: 0.651600\n",
      "Epoch 34, CIFAR-10 Batch 2:  Loss:     0.3024 Validation Accuracy: 0.640000\n",
      "Epoch 34, CIFAR-10 Batch 3:  Loss:     0.2533 Validation Accuracy: 0.636000\n",
      "Epoch 34, CIFAR-10 Batch 4:  Loss:     0.2362 Validation Accuracy: 0.648800\n",
      "Epoch 34, CIFAR-10 Batch 5:  Loss:     0.2367 Validation Accuracy: 0.629600\n",
      "Epoch 35, CIFAR-10 Batch 1:  Loss:     0.3387 Validation Accuracy: 0.642800\n",
      "Epoch 35, CIFAR-10 Batch 2:  Loss:     0.2675 Validation Accuracy: 0.646600\n",
      "Epoch 35, CIFAR-10 Batch 3:  Loss:     0.2000 Validation Accuracy: 0.648800\n",
      "Epoch 35, CIFAR-10 Batch 4:  Loss:     0.2091 Validation Accuracy: 0.660200\n",
      "Epoch 35, CIFAR-10 Batch 5:  Loss:     0.2103 Validation Accuracy: 0.647600\n",
      "Epoch 36, CIFAR-10 Batch 1:  Loss:     0.3015 Validation Accuracy: 0.647400\n",
      "Epoch 36, CIFAR-10 Batch 2:  Loss:     0.2732 Validation Accuracy: 0.655600\n",
      "Epoch 36, CIFAR-10 Batch 3:  Loss:     0.1825 Validation Accuracy: 0.647000\n",
      "Epoch 36, CIFAR-10 Batch 4:  Loss:     0.1933 Validation Accuracy: 0.659200\n",
      "Epoch 36, CIFAR-10 Batch 5:  Loss:     0.2000 Validation Accuracy: 0.653800\n",
      "Epoch 37, CIFAR-10 Batch 1:  Loss:     0.2953 Validation Accuracy: 0.650400\n",
      "Epoch 37, CIFAR-10 Batch 2:  Loss:     0.2412 Validation Accuracy: 0.656200\n",
      "Epoch 37, CIFAR-10 Batch 3:  Loss:     0.1841 Validation Accuracy: 0.658400\n",
      "Epoch 37, CIFAR-10 Batch 4:  Loss:     0.1971 Validation Accuracy: 0.657200\n",
      "Epoch 37, CIFAR-10 Batch 5:  Loss:     0.2146 Validation Accuracy: 0.654200\n",
      "Epoch 38, CIFAR-10 Batch 1:  Loss:     0.2907 Validation Accuracy: 0.639200\n",
      "Epoch 38, CIFAR-10 Batch 2:  Loss:     0.2531 Validation Accuracy: 0.644400\n",
      "Epoch 38, CIFAR-10 Batch 3:  Loss:     0.1789 Validation Accuracy: 0.656600\n",
      "Epoch 38, CIFAR-10 Batch 4:  Loss:     0.2023 Validation Accuracy: 0.655000\n",
      "Epoch 38, CIFAR-10 Batch 5:  Loss:     0.1792 Validation Accuracy: 0.656400\n",
      "Epoch 39, CIFAR-10 Batch 1:  Loss:     0.2927 Validation Accuracy: 0.643000\n",
      "Epoch 39, CIFAR-10 Batch 2:  Loss:     0.2362 Validation Accuracy: 0.636800\n",
      "Epoch 39, CIFAR-10 Batch 3:  Loss:     0.1702 Validation Accuracy: 0.662000\n",
      "Epoch 39, CIFAR-10 Batch 4:  Loss:     0.1742 Validation Accuracy: 0.655600\n",
      "Epoch 39, CIFAR-10 Batch 5:  Loss:     0.1760 Validation Accuracy: 0.657400\n",
      "Epoch 40, CIFAR-10 Batch 1:  Loss:     0.2701 Validation Accuracy: 0.634400\n",
      "Epoch 40, CIFAR-10 Batch 2:  Loss:     0.2627 Validation Accuracy: 0.639000\n",
      "Epoch 40, CIFAR-10 Batch 3:  Loss:     0.1812 Validation Accuracy: 0.652600\n",
      "Epoch 40, CIFAR-10 Batch 4:  Loss:     0.1834 Validation Accuracy: 0.651400\n",
      "Epoch 40, CIFAR-10 Batch 5:  Loss:     0.1777 Validation Accuracy: 0.640200\n",
      "Epoch 41, CIFAR-10 Batch 1:  Loss:     0.2683 Validation Accuracy: 0.643800\n",
      "Epoch 41, CIFAR-10 Batch 2:  Loss:     0.2078 Validation Accuracy: 0.644600\n",
      "Epoch 41, CIFAR-10 Batch 3:  Loss:     0.1595 Validation Accuracy: 0.657200\n",
      "Epoch 41, CIFAR-10 Batch 4:  Loss:     0.1794 Validation Accuracy: 0.654800\n",
      "Epoch 41, CIFAR-10 Batch 5:  Loss:     0.1479 Validation Accuracy: 0.655000\n",
      "Epoch 42, CIFAR-10 Batch 1:  Loss:     0.2505 Validation Accuracy: 0.639600\n",
      "Epoch 42, CIFAR-10 Batch 2:  Loss:     0.2048 Validation Accuracy: 0.646400\n",
      "Epoch 42, CIFAR-10 Batch 3:  Loss:     0.1738 Validation Accuracy: 0.664000\n",
      "Epoch 42, CIFAR-10 Batch 4:  Loss:     0.1725 Validation Accuracy: 0.654200\n",
      "Epoch 42, CIFAR-10 Batch 5:  Loss:     0.1448 Validation Accuracy: 0.648000\n",
      "Epoch 43, CIFAR-10 Batch 1:  Loss:     0.2336 Validation Accuracy: 0.635200\n",
      "Epoch 43, CIFAR-10 Batch 2:  Loss:     0.2197 Validation Accuracy: 0.655000\n",
      "Epoch 43, CIFAR-10 Batch 3:  Loss:     0.1615 Validation Accuracy: 0.653600\n",
      "Epoch 43, CIFAR-10 Batch 4:  Loss:     0.1618 Validation Accuracy: 0.655800\n",
      "Epoch 43, CIFAR-10 Batch 5:  Loss:     0.1455 Validation Accuracy: 0.659600\n",
      "Epoch 44, CIFAR-10 Batch 1:  Loss:     0.2469 Validation Accuracy: 0.634000\n",
      "Epoch 44, CIFAR-10 Batch 2:  Loss:     0.2037 Validation Accuracy: 0.650000\n",
      "Epoch 44, CIFAR-10 Batch 3:  Loss:     0.1323 Validation Accuracy: 0.655800\n",
      "Epoch 44, CIFAR-10 Batch 4:  Loss:     0.1812 Validation Accuracy: 0.657800\n",
      "Epoch 44, CIFAR-10 Batch 5:  Loss:     0.1439 Validation Accuracy: 0.663800\n",
      "Epoch 45, CIFAR-10 Batch 1:  Loss:     0.2241 Validation Accuracy: 0.635800\n",
      "Epoch 45, CIFAR-10 Batch 2:  Loss:     0.2303 Validation Accuracy: 0.647400\n",
      "Epoch 45, CIFAR-10 Batch 3:  Loss:     0.1235 Validation Accuracy: 0.657200\n",
      "Epoch 45, CIFAR-10 Batch 4:  Loss:     0.1611 Validation Accuracy: 0.652600\n",
      "Epoch 45, CIFAR-10 Batch 5:  Loss:     0.1260 Validation Accuracy: 0.652000\n",
      "Epoch 46, CIFAR-10 Batch 1:  Loss:     0.2240 Validation Accuracy: 0.645000\n",
      "Epoch 46, CIFAR-10 Batch 2:  Loss:     0.1785 Validation Accuracy: 0.665000\n",
      "Epoch 46, CIFAR-10 Batch 3:  Loss:     0.1274 Validation Accuracy: 0.648600\n",
      "Epoch 46, CIFAR-10 Batch 4:  Loss:     0.1638 Validation Accuracy: 0.648800\n",
      "Epoch 46, CIFAR-10 Batch 5:  Loss:     0.1252 Validation Accuracy: 0.655800\n",
      "Epoch 47, CIFAR-10 Batch 1:  Loss:     0.1874 Validation Accuracy: 0.656600\n",
      "Epoch 47, CIFAR-10 Batch 2:  Loss:     0.1746 Validation Accuracy: 0.660600\n",
      "Epoch 47, CIFAR-10 Batch 3:  Loss:     0.1105 Validation Accuracy: 0.657000\n",
      "Epoch 47, CIFAR-10 Batch 4:  Loss:     0.1531 Validation Accuracy: 0.644800\n",
      "Epoch 47, CIFAR-10 Batch 5:  Loss:     0.1326 Validation Accuracy: 0.661000\n",
      "Epoch 48, CIFAR-10 Batch 1:  Loss:     0.2241 Validation Accuracy: 0.638400\n",
      "Epoch 48, CIFAR-10 Batch 2:  Loss:     0.1843 Validation Accuracy: 0.659400\n",
      "Epoch 48, CIFAR-10 Batch 3:  Loss:     0.1285 Validation Accuracy: 0.642000\n",
      "Epoch 48, CIFAR-10 Batch 4:  Loss:     0.1669 Validation Accuracy: 0.640000\n",
      "Epoch 48, CIFAR-10 Batch 5:  Loss:     0.1531 Validation Accuracy: 0.659000\n",
      "Epoch 49, CIFAR-10 Batch 1:  Loss:     0.2081 Validation Accuracy: 0.640200\n",
      "Epoch 49, CIFAR-10 Batch 2:  Loss:     0.1858 Validation Accuracy: 0.657200\n",
      "Epoch 49, CIFAR-10 Batch 3:  Loss:     0.1262 Validation Accuracy: 0.657400\n",
      "Epoch 49, CIFAR-10 Batch 4:  Loss:     0.1307 Validation Accuracy: 0.659000\n",
      "Epoch 49, CIFAR-10 Batch 5:  Loss:     0.1138 Validation Accuracy: 0.660400\n",
      "Epoch 50, CIFAR-10 Batch 1:  Loss:     0.2115 Validation Accuracy: 0.630000\n",
      "Epoch 50, CIFAR-10 Batch 2:  Loss:     0.1830 Validation Accuracy: 0.657800\n",
      "Epoch 50, CIFAR-10 Batch 3:  Loss:     0.1241 Validation Accuracy: 0.653200\n",
      "Epoch 50, CIFAR-10 Batch 4:  Loss:     0.1226 Validation Accuracy: 0.663200\n",
      "Epoch 50, CIFAR-10 Batch 5:  Loss:     0.1234 Validation Accuracy: 0.659800\n"
     ]
    }
   ],
   "source": [
    "\"\"\"\n",
    "DON'T MODIFY ANYTHING IN THIS CELL\n",
    "\"\"\"\n",
    "save_model_path = './image_classification'\n",
    "\n",
    "print('Training...')\n",
    "with tf.Session() as sess:\n",
    "    # Initializing the variables\n",
    "    sess.run(tf.global_variables_initializer())\n",
    "    \n",
    "    # Training cycle\n",
    "    for epoch in range(epochs):\n",
    "        # Loop over all batches\n",
    "        n_batches = 5\n",
    "        for batch_i in range(1, n_batches + 1):\n",
    "            for batch_features, batch_labels in helper.load_preprocess_training_batch(batch_i, batch_size):\n",
    "                train_neural_network(sess, optimizer, keep_probability, batch_features, batch_labels)\n",
    "            print('Epoch {:>2}, CIFAR-10 Batch {}:  '.format(epoch + 1, batch_i), end='')\n",
    "            print_stats(sess, batch_features, batch_labels, cost, accuracy)\n",
    "            \n",
    "    # Save Model\n",
    "    saver = tf.train.Saver()\n",
    "    save_path = saver.save(sess, save_model_path)"
   ]
  },
  {
   "cell_type": "markdown",
   "metadata": {
    "deletable": true,
    "editable": true
   },
   "source": [
    "# Checkpoint\n",
    "The model has been saved to disk.\n",
    "## Test Model\n",
    "Test your model against the test dataset.  This will be your final accuracy. You should have an accuracy greater than 50%. If you don't, keep tweaking the model architecture and parameters."
   ]
  },
  {
   "cell_type": "code",
   "execution_count": 69,
   "metadata": {
    "collapsed": false,
    "deletable": true,
    "editable": true
   },
   "outputs": [
    {
     "name": "stdout",
     "output_type": "stream",
     "text": [
      "Testing Accuracy: 0.66318359375\n",
      "\n"
     ]
    },
    {
     "data": {
      "image/png": "[encoded data removed]",
      "text/plain": [
       "<matplotlib.figure.Figure at 0x7f24181f65c0>"
      ]
     },
     "metadata": {
      "image/png": {
       "height": 319,
       "width": 355
      }
     },
     "output_type": "display_data"
    }
   ],
   "source": [
    "\"\"\"\n",
    "DON'T MODIFY ANYTHING IN THIS CELL\n",
    "\"\"\"\n",
    "%matplotlib inline\n",
    "%config InlineBackend.figure_format = 'retina'\n",
    "\n",
    "import tensorflow as tf\n",
    "import pickle\n",
    "import helper\n",
    "import random\n",
    "\n",
    "# Set batch size if not already set\n",
    "try:\n",
    "    if batch_size:\n",
    "        pass\n",
    "except NameError:\n",
    "    batch_size = 64\n",
    "\n",
    "save_model_path = './image_classification'\n",
    "n_samples = 4\n",
    "top_n_predictions = 3\n",
    "\n",
    "def test_model():\n",
    "    \"\"\"\n",
    "    Test the saved model against the test dataset\n",
    "    \"\"\"\n",
    "\n",
    "    test_features, test_labels = pickle.load(open('preprocess_training.p', mode='rb'))\n",
    "    loaded_graph = tf.Graph()\n",
    "\n",
    "    with tf.Session(graph=loaded_graph) as sess:\n",
    "        # Load model\n",
    "        loader = tf.train.import_meta_graph(save_model_path + '.meta')\n",
    "        loader.restore(sess, save_model_path)\n",
    "\n",
    "        # Get Tensors from loaded model\n",
    "        loaded_x = loaded_graph.get_tensor_by_name('x:0')\n",
    "        loaded_y = loaded_graph.get_tensor_by_name('y:0')\n",
    "        loaded_keep_prob = loaded_graph.get_tensor_by_name('keep_prob:0')\n",
    "        loaded_logits = loaded_graph.get_tensor_by_name('logits:0')\n",
    "        loaded_acc = loaded_graph.get_tensor_by_name('accuracy:0')\n",
    "        \n",
    "        # Get accuracy in batches for memory limitations\n",
    "        test_batch_acc_total = 0\n",
    "        test_batch_count = 0\n",
    "        \n",
    "        for train_feature_batch, train_label_batch in helper.batch_features_labels(test_features, test_labels, batch_size):\n",
    "            test_batch_acc_total += sess.run(\n",
    "                loaded_acc,\n",
    "                feed_dict={loaded_x: train_feature_batch, loaded_y: train_label_batch, loaded_keep_prob: 1.0})\n",
    "            test_batch_count += 1\n",
    "\n",
    "        print('Testing Accuracy: {}\\n'.format(test_batch_acc_total/test_batch_count))\n",
    "\n",
    "        # Print Random Samples\n",
    "        random_test_features, random_test_labels = tuple(zip(*random.sample(list(zip(test_features, test_labels)), n_samples)))\n",
    "        random_test_predictions = sess.run(\n",
    "            tf.nn.top_k(tf.nn.softmax(loaded_logits), top_n_predictions),\n",
    "            feed_dict={loaded_x: random_test_features, loaded_y: random_test_labels, loaded_keep_prob: 1.0})\n",
    "        helper.display_image_predictions(random_test_features, random_test_labels, random_test_predictions)\n",
    "\n",
    "\n",
    "test_model()"
   ]
  },
  {
   "cell_type": "markdown",
   "metadata": {
    "deletable": true,
    "editable": true
   },
   "source": [
    "## Why 50-70% Accuracy?\n",
    "You might be wondering why you can't get an accuracy any higher. First things first, 50% isn't bad for a simple CNN.  Pure guessing would get you 10% accuracy. However, you might notice people are getting scores [well above 70%](http://rodrigob.github.io/are_we_there_yet/build/classification_datasets_results.html#43494641522d3130).  That's because we haven't taught you all there is to know about neural networks. We still need to cover a few more techniques.\n",
    "## Submitting This Project\n",
    "When submitting this project, make sure to run all the cells before saving the notebook.  Save the notebook file as \"dlnd_image_classification.ipynb\" and save it as a HTML file under \"File\" -> \"Download as\".  Include the \"helper.py\" and \"problem_unittests.py\" files in your submission."
   ]
  }
 ],
 "metadata": {
  "kernelspec": {
   "display_name": "Python 3",
   "language": "python",
   "name": "python3"
  },
  "language_info": {
   "codemirror_mode": {
    "name": "ipython",
    "version": 3
   },
   "file_extension": ".py",
   "mimetype": "text/x-python",
   "name": "python",
   "nbconvert_exporter": "python",
   "pygments_lexer": "ipython3",
   "version": "3.5.3"
  }
 },
 "nbformat": 4,
 "nbformat_minor": 0
}
